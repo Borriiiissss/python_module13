{
  "nbformat": 4,
  "nbformat_minor": 0,
  "metadata": {
    "colab": {
      "provenance": [],
      "authorship_tag": "ABX9TyMEkt3OKCERvpThph9dx1fe"
    },
    "kernelspec": {
      "name": "python3",
      "display_name": "Python 3"
    },
    "language_info": {
      "name": "python"
    }
  },
  "cells": [
    {
      "cell_type": "code",
      "source": [
        "result = 0\n",
        "amountOfTickets = int(input(\"input amount of tickets \"))\n",
        "list_of_prices = []\n",
        "for i in range(amountOfTickets):\n",
        "  age = (int(input(f\"input age of person for ticket number {i+1} \")))\n",
        "  if (age < 18):\n",
        "    list_of_prices.append(0)\n",
        "  elif (17< age < 25):\n",
        "    list_of_prices.append(990)\n",
        "  elif (age > 25):\n",
        "    list_of_prices.append(1390)\n",
        "print (list_of_prices)\n",
        "for j in list_of_prices:\n",
        "  result += j\n",
        "if (amountOfTickets > 3):\n",
        "  print(f'sum to pay is {int(result - (result / 10))} (-10%)')\n",
        "else:\n",
        "  print (f'sum to pay is {(result)}')"
      ],
      "metadata": {
        "colab": {
          "base_uri": "https://localhost:8080/"
        },
        "id": "9QW8SsgFOcoc",
        "outputId": "4c1d26dc-8d9a-4d7f-db07-a86be29b0d0d"
      },
      "execution_count": 1,
      "outputs": [
        {
          "output_type": "stream",
          "name": "stdout",
          "text": [
            "input amount of tickets 4\n",
            "input age of person for ticket number 1 5\n",
            "input age of person for ticket number 2 16\n",
            "input age of person for ticket number 3 22\n",
            "input age of person for ticket number 4 35\n",
            "[0, 0, 990, 1390]\n",
            "sum to pay is 2142 (-10%)\n"
          ]
        }
      ]
    },
    {
      "cell_type": "markdown",
      "source": [
        "Для онлайн-конференции необходимо написать программу, которая будет подсчитывать общую стоимость билетов. Программа должна работать следующим образом:\n",
        "\n",
        "1. В начале у пользователя запрашивается количество билетов, которые он хочет приобрести на мероприятие.\n",
        "\n",
        "2. Далее для каждого билета запрашивается возраст посетителя, в соответствии со значением которого выбирается стоимость:\n",
        "\n",
        "Если посетителю конференции менее 18 лет, то он проходит на конференцию бесплатно.\n",
        "От 18 до 25 лет — 990 руб.\n",
        "От 25 лет — полная стоимость 1390 руб.\n",
        "3. В результате программы выводится сумма к оплате. При этом, если человек регистрирует больше трёх человек на конференцию, то дополнительно получает 10% скидку на полную стоимость заказа."
      ],
      "metadata": {
        "id": "18HPqzVEbf0Q"
      }
    }
  ]
}